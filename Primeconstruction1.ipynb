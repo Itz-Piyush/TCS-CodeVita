{
  "nbformat": 4,
  "nbformat_minor": 0,
  "metadata": {
    "colab": {
      "provenance": [],
      "toc_visible": true
    },
    "kernelspec": {
      "name": "python3",
      "display_name": "Python 3"
    },
    "language_info": {
      "name": "python"
    }
  },
  "cells": [
    {
      "cell_type": "markdown",
      "source": [
        "PrimeConstructionMarks: 30\n",
        "Problem Description\n",
        "A math game is introduced in a school competition to test the skills of students. The game deals with Prime numbers.\n",
        "\n",
        "The game rules are as follows:\n",
        "\n",
        "From the given set of distinct natural numbers as input, consider the smallest natural number as q.\n",
        "Your task is to compute the smallest prime number (p) such that when p is divided by all the distinct numbers in the input, except q, should result q as the remainder.\n",
        "Constraints\n",
        "1 < n < 11\n",
        "\n",
        "p < 10 ^ 10\n",
        "\n",
        "Input\n",
        "Input consists of n+1 number of distinct natural numbers separated by spaces.\n",
        "\n",
        "Output\n",
        "Print single integer p if such a p exists, else print \"None\".\n",
        "\n",
        "Time Limit (secs)\n",
        "1\n",
        "\n",
        "Examples\n",
        "Input\n",
        "\n",
        "3 4 5 1\n",
        "\n",
        "Output\n",
        "\n",
        "61\n",
        "\n",
        "Explanation\n",
        "\n",
        "Here the n+1 numbers are 3, 4, 5 and 1 where q=1 (the least of the numbers)\n",
        "\n",
        "The smallest number that leaves remainder 1 when divided by 3, 4 and 5 is 61 and is prime. Hence, output is 61.\n",
        "\n",
        "Example 2\n",
        "\n",
        "Input\n",
        "\n",
        "3 4 5 2\n",
        "\n",
        "Output\n",
        "\n",
        "None\n",
        "\n",
        "Explanation\n",
        "\n",
        "Here q=2. Any number that when divided by 4 leaving remainder 2 must be an even number e.g., 6, 10, 14 etc. Hence it can't be prime. Hence, output is \"None\"\n"
      ],
      "metadata": {
        "id": "C43_GYCgwRSG"
      }
    },
    {
      "cell_type": "markdown",
      "source": [
        "Case 1 Solution\n"
      ],
      "metadata": {
        "id": "WVSo44ylxAd5"
      }
    },
    {
      "cell_type": "code",
      "source": [
        "# Solution for this question in python is :\n",
        "import math\n",
        "def is_prime(n):\n",
        "    if n < 2:\n",
        "        return False\n",
        "    for i in range(2, int(math.sqrt(n))+1):\n",
        "        if n % i == 0:\n",
        "            return False\n",
        "    return True\n",
        "input_list = list(map(int, input().split()))\n",
        "q = min(input_list)\n",
        "for p in range(q+1, 10*10):\n",
        "    if is_prime(p):\n",
        "        flag = True\n",
        "        for num in input_list:\n",
        "            if num != q and p % num != q:\n",
        "                flag = False\n",
        "                break\n",
        "        if flag:\n",
        "            print(p)\n",
        "            break\n",
        "else:\n",
        "    print(\"None\")"
      ],
      "metadata": {
        "colab": {
          "base_uri": "https://localhost:8080/"
        },
        "id": "ySETIxUzwkBi",
        "outputId": "96daa367-ff10-4b49-9767-ec8d3f466e99"
      },
      "execution_count": 29,
      "outputs": [
        {
          "output_type": "stream",
          "name": "stdout",
          "text": [
            "3 4 5 1\n",
            "61\n"
          ]
        }
      ]
    },
    {
      "cell_type": "markdown",
      "source": [
        "Case 2 Solution"
      ],
      "metadata": {
        "id": "v2612MdrxGqN"
      }
    },
    {
      "cell_type": "code",
      "source": [
        "# Solution for this question in python is :\n",
        "import math\n",
        "def is_prime(n):\n",
        "    if n < 2:\n",
        "        return False\n",
        "    for i in range(2, int(math.sqrt(n))+1):\n",
        "        if n % i == 0:\n",
        "            return False\n",
        "    return True\n",
        "input_list = list(map(int, input().split()))\n",
        "q = min(input_list)\n",
        "for p in range(q+1, 10*10):\n",
        "    if is_prime(p):\n",
        "        flag = True\n",
        "        for num in input_list:\n",
        "            if num != q and p % num != q:\n",
        "                flag = False\n",
        "                break\n",
        "        if flag:\n",
        "            print(p)\n",
        "            break\n",
        "else:\n",
        "    print(\"None\")"
      ],
      "metadata": {
        "colab": {
          "base_uri": "https://localhost:8080/"
        },
        "id": "sYjsP0kew7iO",
        "outputId": "95141ff7-ca27-42be-c39f-1d0ee6149124"
      },
      "execution_count": 30,
      "outputs": [
        {
          "output_type": "stream",
          "name": "stdout",
          "text": [
            "3 4 5 2\n",
            "None\n"
          ]
        }
      ]
    }
  ]
}